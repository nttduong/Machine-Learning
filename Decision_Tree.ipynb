{
  "nbformat": 4,
  "nbformat_minor": 0,
  "metadata": {
    "colab": {
      "name": "Decision Tree.ipynb",
      "provenance": [],
      "collapsed_sections": []
    },
    "kernelspec": {
      "name": "python3",
      "display_name": "Python 3"
    },
    "language_info": {
      "name": "python"
    }
  },
  "cells": [
    {
      "cell_type": "code",
      "metadata": {
        "id": "IaFS9IcPA3xY"
      },
      "source": [
        "import pandas as pd\n",
        "import numpy as np\n",
        "import matplotlib.pyplot as plt\n",
        "import seaborn as sns\n",
        "import warnings as wr\n",
        "from collections import Counter\n",
        "from sklearn.preprocessing import StandardScaler\n",
        "\n",
        "#Models\n",
        "from sklearn.model_selection import train_test_split\n",
        "from sklearn.linear_model import LinearRegression\n",
        "from sklearn.linear_model import LogisticRegression\n",
        "\n",
        "from sklearn.tree import DecisionTreeRegressor \n",
        "from sklearn.tree import export_graphviz \n",
        "\n",
        "#Metrics\n",
        "from sklearn import metrics\n",
        "from sklearn.metrics import accuracy_score, classification_report"
      ],
      "execution_count": null,
      "outputs": []
    },
    {
      "cell_type": "code",
      "metadata": {
        "id": "uiVau3LsA9Qg"
      },
      "source": [
        "X = np.array([[1, 3], [2, 2], [3, 2], [4, 1], [4, 2], \n",
        "              [2, 6], [4, 6], [3, 7], [2, 8], [1, 9],\n",
        "              [8, 6], [9, 7], [7, 9], [10, 6], [8, 9],\n",
        "              [8, 4], [9, 1], [10, 3], [8, 3], [9, 3]])\n",
        "y = np.ones(20)\n",
        "y[:5] = 0"
      ],
      "execution_count": null,
      "outputs": []
    },
    {
      "cell_type": "code",
      "metadata": {
        "colab": {
          "base_uri": "https://localhost:8080/",
          "height": 282
        },
        "id": "wkWWpWdxBDBE",
        "outputId": "3b208f3f-191a-4856-bade-6bebb4232297"
      },
      "source": [
        "plt.scatter(X[:, 0], X[:, 1], c=y)"
      ],
      "execution_count": null,
      "outputs": [
        {
          "output_type": "execute_result",
          "data": {
            "text/plain": [
              "<matplotlib.collections.PathCollection at 0x7f79656fb410>"
            ]
          },
          "metadata": {},
          "execution_count": 49
        },
        {
          "output_type": "display_data",
          "data": {
            "image/png": "[encoded data removed]",
            "text/plain": [
              "<Figure size 432x288 with 1 Axes>"
            ]
          },
          "metadata": {
            "needs_background": "light"
          }
        }
      ]
    },
    {
      "cell_type": "markdown",
      "metadata": {
        "id": "wpjENW4ABoVp"
      },
      "source": [
        "Search x1, x2 in range (0, 10) to find max gini index"
      ]
    },
    {
      "cell_type": "code",
      "metadata": {
        "id": "mpeQ-9CIBGsK"
      },
      "source": [
        "def gini_cal(n1,n2):\n",
        "  if (n1+n2) == 1:\n",
        "    return 1\n",
        "  else:\n",
        "    return 1 - ((n1/(n1+n2))**2 + (n2/(n1+n2))**2)"
      ],
      "execution_count": null,
      "outputs": []
    },
    {
      "cell_type": "code",
      "metadata": {
        "colab": {
          "base_uri": "https://localhost:8080/"
        },
        "id": "XgvQZJnPKZv9",
        "outputId": "626a8a36-7d66-4913-b0fe-7b4ef147ecea"
      },
      "source": [
        "gini_cal(5,15)"
      ],
      "execution_count": null,
      "outputs": [
        {
          "output_type": "execute_result",
          "data": {
            "text/plain": [
              "0.375"
            ]
          },
          "metadata": {},
          "execution_count": 51
        }
      ]
    },
    {
      "cell_type": "code",
      "metadata": {
        "id": "wGl6v29vQMYw"
      },
      "source": [
        "#g1 = gini_cal(y.shape[0] - sum(y), sum(y))\n",
        "#for i in range(0, 10):\n",
        "  # xét ngưỡng x > i\n",
        " # ya = X[X[:,0] >= i]\n",
        "  #g2 = gini_cal(ya.shape[0] - sum(ya), sum(ya))\n",
        "  \n",
        " # yb = X[X[:,0] < i]\n",
        "  #g3 = gini_cal(yb.shape[0] - sum(yb), sum(yb))\n",
        "\n",
        "  #gini_index = g1 - g2*ya.shape[0] - g3*yb.shape[0]"
      ],
      "execution_count": null,
      "outputs": []
    },
    {
      "cell_type": "code",
      "metadata": {
        "id": "ZZ4ohOHUEycc"
      },
      "source": [
        "X_train, X_test, y_train, y_test = train_test_split(X, y, test_size=0.3, random_state=1)"
      ],
      "execution_count": null,
      "outputs": []
    },
    {
      "cell_type": "code",
      "metadata": {
        "colab": {
          "base_uri": "https://localhost:8080/"
        },
        "id": "2rBI5zodBUAv",
        "outputId": "650609f3-afda-4b92-b7b1-c66ec8182176"
      },
      "source": [
        "model = DecisionTreeRegressor(random_state = 0) \n",
        "model.fit(X, y)"
      ],
      "execution_count": null,
      "outputs": [
        {
          "output_type": "execute_result",
          "data": {
            "text/plain": [
              "DecisionTreeRegressor(random_state=0)"
            ]
          },
          "metadata": {},
          "execution_count": 54
        }
      ]
    },
    {
      "cell_type": "code",
      "metadata": {
        "id": "lA3T7XAoQM9q"
      },
      "source": [
        "pred = model.predict(X_test)"
      ],
      "execution_count": null,
      "outputs": []
    },
    {
      "cell_type": "code",
      "metadata": {
        "colab": {
          "base_uri": "https://localhost:8080/"
        },
        "id": "iDhJ23w_FXh3",
        "outputId": "dc925cb5-57bc-4d0f-9cad-d53622a56640"
      },
      "source": [
        "print(\"Accuracy:\",metrics.accuracy_score(y_test, pred))"
      ],
      "execution_count": null,
      "outputs": [
        {
          "output_type": "stream",
          "name": "stdout",
          "text": [
            "Accuracy: 1.0\n"
          ]
        }
      ]
    },
    {
      "cell_type": "code",
      "metadata": {
        "colab": {
          "base_uri": "https://localhost:8080/"
        },
        "id": "1UjX55p2Ft-O",
        "outputId": "1b745a42-4b1c-4a34-8294-aa0c0670646b"
      },
      "source": [
        "from sklearn.metrics import classification_report\n",
        "from sklearn.metrics import confusion_matrix\n",
        "print(classification_report(y_test, pred))\n",
        "print(confusion_matrix(y_test, pred))"
      ],
      "execution_count": null,
      "outputs": [
        {
          "output_type": "stream",
          "name": "stdout",
          "text": [
            "              precision    recall  f1-score   support\n",
            "\n",
            "         0.0       1.00      1.00      1.00         2\n",
            "         1.0       1.00      1.00      1.00         4\n",
            "\n",
            "    accuracy                           1.00         6\n",
            "   macro avg       1.00      1.00      1.00         6\n",
            "weighted avg       1.00      1.00      1.00         6\n",
            "\n",
            "[[2 0]\n",
            " [0 4]]\n"
          ]
        }
      ]
    },
    {
      "cell_type": "code",
      "metadata": {
        "id": "yhhSUENuGxkc"
      },
      "source": [
        ""
      ],
      "execution_count": null,
      "outputs": []
    }
  ]
}